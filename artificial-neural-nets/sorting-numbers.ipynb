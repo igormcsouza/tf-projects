{
 "metadata": {
  "language_info": {
   "codemirror_mode": {
    "name": "ipython",
    "version": 3
   },
   "file_extension": ".py",
   "mimetype": "text/x-python",
   "name": "python",
   "nbconvert_exporter": "python",
   "pygments_lexer": "ipython3",
   "version": "3.8.5"
  },
  "orig_nbformat": 2,
  "kernelspec": {
   "name": "pythonjvsc74a57bd057324a10fdb172c169e7a56af26abbdc5fbbda560ad01f28b4f934d1441d61cd",
   "display_name": "Python 3.8.5  ('.venv': venv)"
  },
  "metadata": {
   "interpreter": {
    "hash": "57324a10fdb172c169e7a56af26abbdc5fbbda560ad01f28b4f934d1441d61cd"
   }
  }
 },
 "nbformat": 4,
 "nbformat_minor": 2,
 "cells": [
  {
   "cell_type": "code",
   "execution_count": 113,
   "metadata": {},
   "outputs": [],
   "source": [
    "import tensorflow\n",
    "import numpy\n",
    "from numpy.random import randint\n",
    "from sklearn.model_selection import train_test_split"
   ]
  },
  {
   "cell_type": "code",
   "execution_count": 164,
   "metadata": {},
   "outputs": [],
   "source": [
    "epochs = 30\n",
    "sample_dim = 10\n",
    "n_samples = 250\n",
    "variaty = 20\n",
    "test_size=0.15"
   ]
  },
  {
   "cell_type": "code",
   "execution_count": 165,
   "metadata": {},
   "outputs": [],
   "source": [
    "X = randint(low=1, high=variaty, size=(n_samples, sample_dim))"
   ]
  },
  {
   "cell_type": "code",
   "execution_count": 166,
   "metadata": {},
   "outputs": [],
   "source": [
    "y = numpy.sort(X)"
   ]
  },
  {
   "cell_type": "code",
   "execution_count": 167,
   "metadata": {},
   "outputs": [],
   "source": [
    "X_train, X_test, y_train, y_test = train_test_split(\n",
    "    X, y, test_size=test_size, random_state=42)"
   ]
  },
  {
   "cell_type": "code",
   "execution_count": 168,
   "metadata": {},
   "outputs": [],
   "source": [
    "def preprocess(data):\n",
    "    return data/variaty"
   ]
  },
  {
   "cell_type": "code",
   "execution_count": 169,
   "metadata": {},
   "outputs": [],
   "source": [
    "X_train, y_train = preprocess(X_train), preprocess(y_train)"
   ]
  },
  {
   "cell_type": "code",
   "execution_count": 170,
   "metadata": {},
   "outputs": [],
   "source": [
    "def create_model():\n",
    "    model = tensorflow.keras.models.Sequential([\n",
    "        tensorflow.keras.layers.InputLayer(\n",
    "            input_shape=(sample_dim,)),\n",
    "        tensorflow.keras.layers.Dense(256, activation='relu'),\n",
    "        tensorflow.keras.layers.Dense(256, activation='relu'),\n",
    "        tensorflow.keras.layers.Dropout(0.2),\n",
    "        tensorflow.keras.layers.Dense(sample_dim, activation='sigmoid')\n",
    "    ])\n",
    "\n",
    "    model.compile(\n",
    "        optimizer=\"adam\",\n",
    "        loss=\"mae\",\n",
    "        metrics=[\"accuracy\"]\n",
    "    )\n",
    "\n",
    "    return model"
   ]
  },
  {
   "cell_type": "code",
   "execution_count": 171,
   "metadata": {},
   "outputs": [
    {
     "output_type": "stream",
     "name": "stdout",
     "text": [
      "Model: \"sequential_17\"\n_________________________________________________________________\nLayer (type)                 Output Shape              Param #   \n=================================================================\ndense_51 (Dense)             (None, 256)               2816      \n_________________________________________________________________\ndense_52 (Dense)             (None, 256)               65792     \n_________________________________________________________________\ndropout_17 (Dropout)         (None, 256)               0         \n_________________________________________________________________\ndense_53 (Dense)             (None, 10)                2570      \n=================================================================\nTotal params: 71,178\nTrainable params: 71,178\nNon-trainable params: 0\n_________________________________________________________________\n"
     ]
    }
   ],
   "source": [
    "model = create_model()\n",
    "model.summary()"
   ]
  },
  {
   "cell_type": "code",
   "execution_count": 172,
   "metadata": {
    "tags": []
   },
   "outputs": [
    {
     "output_type": "stream",
     "name": "stdout",
     "text": [
      "Epoch 1/30\n",
      "7/7 [==============================] - 0s 9ms/step - loss: 0.2153 - accuracy: 0.0425\n",
      "Epoch 2/30\n",
      "7/7 [==============================] - 0s 10ms/step - loss: 0.1470 - accuracy: 0.0943\n",
      "Epoch 3/30\n",
      "7/7 [==============================] - 0s 11ms/step - loss: 0.1115 - accuracy: 0.2217\n",
      "Epoch 4/30\n",
      "7/7 [==============================] - 0s 8ms/step - loss: 0.1016 - accuracy: 0.7547\n",
      "Epoch 5/30\n",
      "7/7 [==============================] - 0s 10ms/step - loss: 0.0989 - accuracy: 0.8160\n",
      "Epoch 6/30\n",
      "7/7 [==============================] - 0s 10ms/step - loss: 0.0982 - accuracy: 0.8160\n",
      "Epoch 7/30\n",
      "7/7 [==============================] - 0s 9ms/step - loss: 0.0946 - accuracy: 0.8160\n",
      "Epoch 8/30\n",
      "7/7 [==============================] - 0s 10ms/step - loss: 0.0936 - accuracy: 0.8208\n",
      "Epoch 9/30\n",
      "7/7 [==============================] - 0s 12ms/step - loss: 0.0913 - accuracy: 0.8113\n",
      "Epoch 10/30\n",
      "7/7 [==============================] - 0s 10ms/step - loss: 0.0901 - accuracy: 0.8208\n",
      "Epoch 11/30\n",
      "7/7 [==============================] - 0s 11ms/step - loss: 0.0884 - accuracy: 0.8160\n",
      "Epoch 12/30\n",
      "7/7 [==============================] - 0s 10ms/step - loss: 0.0875 - accuracy: 0.8160\n",
      "Epoch 13/30\n",
      "7/7 [==============================] - 0s 12ms/step - loss: 0.0857 - accuracy: 0.8160\n",
      "Epoch 14/30\n",
      "7/7 [==============================] - 0s 7ms/step - loss: 0.0830 - accuracy: 0.8160\n",
      "Epoch 15/30\n",
      "7/7 [==============================] - 0s 10ms/step - loss: 0.0818 - accuracy: 0.8113\n",
      "Epoch 16/30\n",
      "7/7 [==============================] - 0s 11ms/step - loss: 0.0789 - accuracy: 0.8160\n",
      "Epoch 17/30\n",
      "7/7 [==============================] - 0s 9ms/step - loss: 0.0751 - accuracy: 0.8160\n",
      "Epoch 18/30\n",
      "7/7 [==============================] - 0s 10ms/step - loss: 0.0735 - accuracy: 0.8160\n",
      "Epoch 19/30\n",
      "7/7 [==============================] - 0s 11ms/step - loss: 0.0686 - accuracy: 0.8160\n",
      "Epoch 20/30\n",
      "7/7 [==============================] - 0s 8ms/step - loss: 0.0677 - accuracy: 0.8160\n",
      "Epoch 21/30\n",
      "7/7 [==============================] - 0s 10ms/step - loss: 0.0656 - accuracy: 0.8160\n",
      "Epoch 22/30\n",
      "7/7 [==============================] - 0s 11ms/step - loss: 0.0616 - accuracy: 0.8160\n",
      "Epoch 23/30\n",
      "7/7 [==============================] - 0s 10ms/step - loss: 0.0610 - accuracy: 0.8160\n",
      "Epoch 24/30\n",
      "7/7 [==============================] - 0s 9ms/step - loss: 0.0600 - accuracy: 0.8160\n",
      "Epoch 25/30\n",
      "7/7 [==============================] - 0s 11ms/step - loss: 0.0591 - accuracy: 0.8160\n",
      "Epoch 26/30\n",
      "7/7 [==============================] - 0s 11ms/step - loss: 0.0575 - accuracy: 0.8160\n",
      "Epoch 27/30\n",
      "7/7 [==============================] - 0s 8ms/step - loss: 0.0575 - accuracy: 0.8160\n",
      "Epoch 28/30\n",
      "7/7 [==============================] - 0s 11ms/step - loss: 0.0563 - accuracy: 0.8160\n",
      "Epoch 29/30\n",
      "7/7 [==============================] - 0s 11ms/step - loss: 0.0555 - accuracy: 0.8160\n",
      "Epoch 30/30\n",
      "7/7 [==============================] - 0s 9ms/step - loss: 0.0554 - accuracy: 0.8160\n"
     ]
    }
   ],
   "source": [
    "history = model.fit(X_train, y_train, epochs=epochs, batch_size=32)"
   ]
  },
  {
   "cell_type": "code",
   "execution_count": 173,
   "metadata": {},
   "outputs": [],
   "source": [
    "y_pred = model.predict(preprocess(X_test)) \n",
    "y_pred = numpy.round(y_pred * variaty, 0)"
   ]
  },
  {
   "cell_type": "code",
   "execution_count": 178,
   "metadata": {},
   "outputs": [
    {
     "output_type": "execute_result",
     "data": {
      "text/plain": [
       "array([ 7,  3,  6,  7, 10,  9,  4, 17,  6,  8])"
      ]
     },
     "metadata": {},
     "execution_count": 178
    }
   ],
   "source": [
    "X_test[2]"
   ]
  },
  {
   "cell_type": "code",
   "execution_count": 174,
   "metadata": {},
   "outputs": [
    {
     "output_type": "execute_result",
     "data": {
      "text/plain": [
       "array([ 2.,  3.,  4.,  5.,  7.,  9., 10., 12., 14., 17.], dtype=float32)"
      ]
     },
     "metadata": {},
     "execution_count": 174
    }
   ],
   "source": [
    "y_pred[2]"
   ]
  },
  {
   "cell_type": "code",
   "execution_count": 175,
   "metadata": {},
   "outputs": [
    {
     "output_type": "execute_result",
     "data": {
      "text/plain": [
       "array([ 3,  4,  6,  6,  7,  7,  8,  9, 10, 17])"
      ]
     },
     "metadata": {},
     "execution_count": 175
    }
   ],
   "source": [
    "y_test[2]"
   ]
  },
  {
   "cell_type": "code",
   "execution_count": 176,
   "metadata": {},
   "outputs": [],
   "source": [
    "def calc_acc(y_pred, y_test):\n",
    "    acc = []\n",
    "    for i in range(int(n_samples*test_size)):\n",
    "        acc.append(0)\n",
    "        for j in range(sample_dim):\n",
    "            acc[i] += ((y_pred[i][j] - y_test[i][j]) ** 2) ** 0.5\n",
    "\n",
    "    return sum([acc_sample/sample_dim for acc_sample in acc])/n_samples"
   ]
  },
  {
   "cell_type": "code",
   "execution_count": 177,
   "metadata": {},
   "outputs": [
    {
     "output_type": "execute_result",
     "data": {
      "text/plain": [
       "0.16839999999999994"
      ]
     },
     "metadata": {},
     "execution_count": 177
    }
   ],
   "source": [
    "calc_acc(y_pred, y_test)"
   ]
  },
  {
   "cell_type": "code",
   "execution_count": null,
   "metadata": {},
   "outputs": [],
   "source": []
  }
 ]
}