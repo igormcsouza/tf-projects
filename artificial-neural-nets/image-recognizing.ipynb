{
 "metadata": {
  "language_info": {
   "codemirror_mode": {
    "name": "ipython",
    "version": 3
   },
   "file_extension": ".py",
   "mimetype": "text/x-python",
   "name": "python",
   "nbconvert_exporter": "python",
   "pygments_lexer": "ipython3",
   "version": "3.8.5"
  },
  "orig_nbformat": 2,
  "kernelspec": {
   "name": "python385jvsc74a57bd057324a10fdb172c169e7a56af26abbdc5fbbda560ad01f28b4f934d1441d61cd",
   "display_name": "Python 3.8.5  ('.venv': venv)"
  },
  "metadata": {
   "interpreter": {
    "hash": "57324a10fdb172c169e7a56af26abbdc5fbbda560ad01f28b4f934d1441d61cd"
   }
  }
 },
 "nbformat": 4,
 "nbformat_minor": 2,
 "cells": [
  {
   "source": [
    "# Simple Artificial Neural Network\n",
    "\n",
    "## Dataset\n",
    "The dataset for this example (as well as the documentation and more explanation) can be found at https://www.kaggle.com/zalando-research/fashionmnist\n",
    "\n",
    "## Other Subjects\n",
    "1. Activation Functions: https://towardsdatascience.com/comparison-of-activation-functions-for-deep-neural-networks-706ac4284c8a\n",
    "2. Optimizers: https://towardsdatascience.com/optimizers-for-training-neural-network-59450d71caf6"
   ],
   "cell_type": "markdown",
   "metadata": {}
  },
  {
   "cell_type": "code",
   "execution_count": 2,
   "metadata": {},
   "outputs": [],
   "source": [
    "# Standart Imports\n",
    "import datetime\n",
    "\n",
    "# External Imports\n",
    "import numpy\n",
    "import tensorflow\n",
    "from tensorflow.keras.datasets import fashion_mnist"
   ]
  },
  {
   "cell_type": "code",
   "execution_count": 11,
   "metadata": {},
   "outputs": [],
   "source": [
    "# Because of the simplicity of the model, we are going to assume no GPU at all\n",
    "tensorflow.config.experimental.set_visible_devices([], 'GPU')"
   ]
  },
  {
   "cell_type": "code",
   "execution_count": 3,
   "metadata": {},
   "outputs": [
    {
     "output_type": "stream",
     "name": "stdout",
     "text": [
      "Downloading data from https://storage.googleapis.com/tensorflow/tf-keras-datasets/train-labels-idx1-ubyte.gz\n",
      "32768/29515 [=================================] - 0s 2us/step\n",
      "Downloading data from https://storage.googleapis.com/tensorflow/tf-keras-datasets/train-images-idx3-ubyte.gz\n",
      "26427392/26421880 [==============================] - 6s 0us/step\n",
      "Downloading data from https://storage.googleapis.com/tensorflow/tf-keras-datasets/t10k-labels-idx1-ubyte.gz\n",
      "8192/5148 [===============================================] - 0s 0us/step\n",
      "Downloading data from https://storage.googleapis.com/tensorflow/tf-keras-datasets/t10k-images-idx3-ubyte.gz\n",
      "4423680/4422102 [==============================] - 1s 0us/step\n"
     ]
    }
   ],
   "source": [
    "(X_train, y_train), (X_test, y_test) = fashion_mnist.load_data()"
   ]
  },
  {
   "source": [
    "## Preprocess Data"
   ],
   "cell_type": "markdown",
   "metadata": {}
  },
  {
   "cell_type": "code",
   "execution_count": 4,
   "metadata": {},
   "outputs": [],
   "source": [
    "# Normalization to speed up performace\n",
    "X_train = X_train/255\n",
    "X_test = X_test/255"
   ]
  },
  {
   "cell_type": "code",
   "execution_count": 5,
   "metadata": {},
   "outputs": [],
   "source": [
    "# Flatten the images to be ready for input\n",
    "# The image is 28x28 pixels on Black/White format\n",
    "X_train = X_train.reshape(-1, 28*28)\n",
    "X_test = X_test.reshape(-1, 28*28)"
   ]
  },
  {
   "cell_type": "code",
   "execution_count": 6,
   "metadata": {},
   "outputs": [
    {
     "output_type": "execute_result",
     "data": {
      "text/plain": [
       "((60000, 784), (10000, 784))"
      ]
     },
     "metadata": {},
     "execution_count": 6
    }
   ],
   "source": [
    "X_train.shape, X_test.shape"
   ]
  },
  {
   "source": [
    "## Build the Neural Network"
   ],
   "cell_type": "markdown",
   "metadata": {}
  },
  {
   "cell_type": "code",
   "execution_count": 89,
   "metadata": {},
   "outputs": [],
   "source": [
    "# Hyperparameters\n",
    "\n",
    "input_length = 28*28 # Shape of the flattened image\n",
    "num_units = 128 \n",
    "dropout_percentage = 0.2\n",
    "classes = 10 # Number of classes in the dataset (see kaggle)\n",
    "epochs = 10"
   ]
  },
  {
   "cell_type": "code",
   "execution_count": 90,
   "metadata": {},
   "outputs": [],
   "source": [
    "# Building the model, using 1 Dense layer connected to a dropout layer to avoid overfitting\n",
    "\n",
    "# More on dropout at https://jmlr.org/papers/volume15/srivastava14a/srivastava14a.pdf\n",
    "\n",
    "model = tensorflow.keras.models.Sequential([\n",
    "    tensorflow.keras.layers.Dense(\n",
    "        units=num_units, activation='sigmoid', input_shape=(input_length,)),\n",
    "    tensorflow.keras.layers.Dense(units=num_units, activation='sigmoid'),\n",
    "    tensorflow.keras.layers.Dropout(dropout_percentage),\n",
    "    tensorflow.keras.layers.Dense(units=classes, activation='softmax')\n",
    "])"
   ]
  },
  {
   "cell_type": "code",
   "execution_count": 91,
   "metadata": {},
   "outputs": [
    {
     "output_type": "stream",
     "name": "stdout",
     "text": [
      "Model: \"sequential_12\"\n_________________________________________________________________\nLayer (type)                 Output Shape              Param #   \n=================================================================\ndense_30 (Dense)             (None, 128)               100480    \n_________________________________________________________________\ndense_31 (Dense)             (None, 128)               16512     \n_________________________________________________________________\ndropout_12 (Dropout)         (None, 128)               0         \n_________________________________________________________________\ndense_32 (Dense)             (None, 10)                1290      \n=================================================================\nTotal params: 118,282\nTrainable params: 118,282\nNon-trainable params: 0\n_________________________________________________________________\n"
     ]
    }
   ],
   "source": [
    "model.summary()"
   ]
  },
  {
   "cell_type": "code",
   "execution_count": 98,
   "metadata": {},
   "outputs": [],
   "source": [
    "model.compile(\n",
    "    optimizer=\"sgd\",\n",
    "    loss=\"sparse_categorical_crossentropy\", \n",
    "    metrics=[\"sparse_categorical_accuracy\"]\n",
    ")\n"
   ]
  },
  {
   "cell_type": "code",
   "execution_count": 99,
   "metadata": {},
   "outputs": [
    {
     "output_type": "stream",
     "name": "stdout",
     "text": [
      "Epoch 1/10\n",
      "1875/1875 [==============================] - 2s 788us/step - loss: 0.2601 - sparse_categorical_accuracy: 0.9045\n",
      "Epoch 2/10\n",
      "1875/1875 [==============================] - 1s 771us/step - loss: 0.2551 - sparse_categorical_accuracy: 0.9056\n",
      "Epoch 3/10\n",
      "1875/1875 [==============================] - 1s 794us/step - loss: 0.2539 - sparse_categorical_accuracy: 0.9066\n",
      "Epoch 4/10\n",
      "1875/1875 [==============================] - 1s 755us/step - loss: 0.2528 - sparse_categorical_accuracy: 0.9063\n",
      "Epoch 5/10\n",
      "1875/1875 [==============================] - 1s 777us/step - loss: 0.2521 - sparse_categorical_accuracy: 0.9077\n",
      "Epoch 6/10\n",
      "1875/1875 [==============================] - 1s 769us/step - loss: 0.2515 - sparse_categorical_accuracy: 0.9073\n",
      "Epoch 7/10\n",
      "1875/1875 [==============================] - 1s 776us/step - loss: 0.2501 - sparse_categorical_accuracy: 0.9080\n",
      "Epoch 8/10\n",
      "1875/1875 [==============================] - 1s 773us/step - loss: 0.2497 - sparse_categorical_accuracy: 0.9078\n",
      "Epoch 9/10\n",
      "1875/1875 [==============================] - 1s 775us/step - loss: 0.2494 - sparse_categorical_accuracy: 0.9074\n",
      "Epoch 10/10\n",
      "1875/1875 [==============================] - 1s 739us/step - loss: 0.2483 - sparse_categorical_accuracy: 0.9082\n"
     ]
    },
    {
     "output_type": "execute_result",
     "data": {
      "text/plain": [
       "<tensorflow.python.keras.callbacks.History at 0x7f5c3444ea90>"
      ]
     },
     "metadata": {},
     "execution_count": 99
    }
   ],
   "source": [
    "model.fit(X_train, y_train, epochs=epochs)"
   ]
  },
  {
   "cell_type": "code",
   "execution_count": 100,
   "metadata": {},
   "outputs": [
    {
     "output_type": "stream",
     "name": "stdout",
     "text": [
      "313/313 [==============================] - 0s 1ms/step - loss: 0.3296 - sparse_categorical_accuracy: 0.8850\n"
     ]
    },
    {
     "output_type": "execute_result",
     "data": {
      "text/plain": [
       "(0.3295636773109436, 0.8849999904632568)"
      ]
     },
     "metadata": {},
     "execution_count": 100
    }
   ],
   "source": [
    "loss, accuracy = model.evaluate(X_test, y_test)\n",
    "loss, accuracy"
   ]
  },
  {
   "cell_type": "code",
   "execution_count": null,
   "metadata": {},
   "outputs": [],
   "source": []
  }
 ]
}